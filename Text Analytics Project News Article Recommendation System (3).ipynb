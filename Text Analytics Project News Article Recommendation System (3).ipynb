{
 "cells": [
  {
   "cell_type": "markdown",
   "id": "4ec8d8f7",
   "metadata": {},
   "source": [
    "#### Problem Statement \n",
    "\n",
    "Building a recommendatin system for news articles, based on users interest list and the current content they are reading.\n",
    "\n",
    "We are using doc2vec for LSI topi modelling in the recommendation system\n"
   ]
  },
  {
   "cell_type": "markdown",
   "id": "78a0abc6",
   "metadata": {},
   "source": [
    "## Table of Contents\n",
    "\n",
    "* [1 Data Loading](#chapter1)\n",
    "\n",
    "\n",
    "* [2 EDA & Viz](#chapter2)\n",
    "\n",
    "\n",
    "* [3 Doc2Vec](#chapter3)\n",
    "\n",
    "\n",
    "* [4 K Means](#chapter4)\n",
    "\n",
    "\n",
    "* [5 LSI Topi Modelling](#chapter5)\n",
    "\n",
    "\n",
    "* [6 Recommender Function](#chapter6)\n",
    "\n",
    "\n",
    "* [7 References](#chapter7)"
   ]
  },
  {
   "cell_type": "markdown",
   "id": "b6d08dae",
   "metadata": {},
   "source": [
    "<a class=\"anchor\" id=\"chapter1\"></a>"
   ]
  },
  {
   "cell_type": "markdown",
   "id": "834a8396",
   "metadata": {},
   "source": [
    "### 1 Data Loading"
   ]
  },
  {
   "cell_type": "code",
   "execution_count": 9,
   "id": "c396a496",
   "metadata": {},
   "outputs": [],
   "source": [
    "# loading data\n",
    "\n",
    "import pandas as pd\n",
    "import matplotlib.pyplot as plt\n",
    "from wordcloud import WordCloud\n",
    "from tqdm import tqdm\n",
    "\n",
    "data = pd.read_csv(r'C:\\Users\\amits\\OneDrive - University of South Florida\\Fall 2022 Classes\\Text Analytics\\Assignment & Project\\BBC Project\\BBC-articles.csv')"
   ]
  },
  {
   "cell_type": "code",
   "execution_count": 10,
   "id": "839daeef",
   "metadata": {},
   "outputs": [
    {
     "name": "stdout",
     "output_type": "stream",
     "text": [
      "(2225, 2)\n"
     ]
    },
    {
     "data": {
      "text/html": [
       "<div>\n",
       "<style scoped>\n",
       "    .dataframe tbody tr th:only-of-type {\n",
       "        vertical-align: middle;\n",
       "    }\n",
       "\n",
       "    .dataframe tbody tr th {\n",
       "        vertical-align: top;\n",
       "    }\n",
       "\n",
       "    .dataframe thead th {\n",
       "        text-align: right;\n",
       "    }\n",
       "</style>\n",
       "<table border=\"1\" class=\"dataframe\">\n",
       "  <thead>\n",
       "    <tr style=\"text-align: right;\">\n",
       "      <th></th>\n",
       "      <th>category</th>\n",
       "      <th>text</th>\n",
       "    </tr>\n",
       "  </thead>\n",
       "  <tbody>\n",
       "    <tr>\n",
       "      <th>0</th>\n",
       "      <td>tech</td>\n",
       "      <td>tv future in the hands of viewers with home th...</td>\n",
       "    </tr>\n",
       "    <tr>\n",
       "      <th>1</th>\n",
       "      <td>business</td>\n",
       "      <td>worldcom boss  left books alone  former worldc...</td>\n",
       "    </tr>\n",
       "  </tbody>\n",
       "</table>\n",
       "</div>"
      ],
      "text/plain": [
       "   category                                               text\n",
       "0      tech  tv future in the hands of viewers with home th...\n",
       "1  business  worldcom boss  left books alone  former worldc..."
      ]
     },
     "execution_count": 10,
     "metadata": {},
     "output_type": "execute_result"
    }
   ],
   "source": [
    "# sample data\n",
    "\n",
    "print(data.shape)\n",
    "data.head(2)"
   ]
  },
  {
   "cell_type": "code",
   "execution_count": 11,
   "id": "6c278bda",
   "metadata": {},
   "outputs": [
    {
     "data": {
      "text/plain": [
       "0    tv future in the hands of viewers with home theatre systems  plasma high-definition tvs  and digital video recorders moving into the living room  the way people watch tv will be radically differen...\n",
       "Name: text, dtype: object"
      ]
     },
     "execution_count": 11,
     "metadata": {},
     "output_type": "execute_result"
    }
   ],
   "source": [
    "# removing limitation on # max row, # max columns, max col width\n",
    "\n",
    "pd.set_option('display.max_columns', None)\n",
    "pd.set_option('display.max_rows', None)\n",
    "pd.set_option('display.max_colwidth', 200)\n",
    "data['text'].head(1)"
   ]
  },
  {
   "cell_type": "code",
   "execution_count": 12,
   "id": "7e58e124",
   "metadata": {},
   "outputs": [
    {
     "data": {
      "text/plain": [
       "{'business', 'entertainment', 'politics', 'sport', 'tech'}"
      ]
     },
     "execution_count": 12,
     "metadata": {},
     "output_type": "execute_result"
    }
   ],
   "source": [
    "# actual labels in the data\n",
    "\n",
    "set(data['category'])"
   ]
  },
  {
   "cell_type": "markdown",
   "id": "2dc3551c",
   "metadata": {},
   "source": [
    "<a class=\"anchor\" id=\"chapter2\"></a>"
   ]
  },
  {
   "cell_type": "markdown",
   "id": "f490681e",
   "metadata": {},
   "source": [
    "### 2 EDA & Viz"
   ]
  },
  {
   "cell_type": "code",
   "execution_count": 15,
   "id": "ea9890d2",
   "metadata": {},
   "outputs": [
    {
     "name": "stdout",
     "output_type": "stream",
     "text": [
      "(511, 2)\n",
      "182670\n"
     ]
    }
   ],
   "source": [
    "# for wordclouds, cleaning the data\n",
    "\n",
    "from textblob import TextBlob\n",
    "import spacy\n",
    "sp = spacy.load(\"en_core_web_sm\")\n",
    "stopwords = spacy.lang.en.stop_words.STOP_WORDS\n",
    "\n",
    "\n",
    "sport = data[data['category']=='sport']\n",
    "print(sport.shape)\n",
    "\n",
    "corpus = TextBlob(' '.join((sport['text'])))\n",
    "tokens = corpus.tokenize()\n",
    "print(len(tokens))\n",
    "\n",
    "stopwords.add('s')\n",
    "stopwords.add('said')\n",
    "\n",
    "words = [i for i in tokens if i not in stopwords]"
   ]
  },
  {
   "cell_type": "code",
   "execution_count": 55,
   "id": "2a505cc2",
   "metadata": {},
   "outputs": [
    {
     "data": {
      "image/png": "[encoded data removed]",
      "text/plain": [
       "<Figure size 640x480 with 1 Axes>"
      ]
     },
     "metadata": {},
     "output_type": "display_data"
    }
   ],
   "source": [
    "# wordcloud 1 for sports\n",
    "\n",
    "text_corpus = ' '.join(words)\n",
    "\n",
    "wordcloud = WordCloud(width=500, height=500, background_color='white', collocations='FALSE', min_font_size=16).generate(text_corpus)\n",
    "\n",
    "plt.imshow(wordcloud)\n",
    "plt.show()"
   ]
  },
  {
   "cell_type": "markdown",
   "id": "3d1d51f4",
   "metadata": {},
   "source": [
    "<a class=\"anchor\" id=\"chapter3\"></a>"
   ]
  },
  {
   "cell_type": "markdown",
   "id": "a295288a",
   "metadata": {},
   "source": [
    "### 3 Doc2Vec Model"
   ]
  },
  {
   "cell_type": "code",
   "execution_count": 17,
   "id": "2cf33f2a",
   "metadata": {},
   "outputs": [
    {
     "name": "stderr",
     "output_type": "stream",
     "text": [
      "C:\\Users\\amits\\AppData\\Local\\Temp\\ipykernel_27116\\2275218647.py:15: VisibleDeprecationWarning: Creating an ndarray from ragged nested sequences (which is a list-or-tuple of lists-or-tuples-or ndarrays with different lengths or shapes) is deprecated. If you meant to do this, you must specify 'dtype=object' when creating the ndarray.\n",
      "  docs = [TaggedDocument(doc, [i]) for i, doc in enumerate(np.array(tokenized_list))]\n"
     ]
    }
   ],
   "source": [
    "# loading data and running doc2vec\n",
    "\n",
    "import pandas as pd\n",
    "from sklearn.metrics import confusion_matrix, f1_score, recall_score, precision_score\n",
    "from sklearn.model_selection import train_test_split\n",
    "from sklearn.preprocessing import LabelEncoder\n",
    "from sklearn.ensemble import RandomForestClassifier, HistGradientBoostingClassifier\n",
    "\n",
    "from sklearn.metrics import classification_report\n",
    "from sklearn.svm import SVC\n",
    "from sklearn.preprocessing import FunctionTransformer\n",
    "\n",
    "from gensim.models.doc2vec import Doc2Vec, TaggedDocument\n",
    "from gensim.utils import simple_preprocess\n",
    "import numpy as np\n",
    "\n",
    "df = data\n",
    "\n",
    "# reomve stop words and check accuracy\n",
    "tokenized_list = [simple_preprocess(h, min_len=3) for h in df['text'] ]\n",
    "\n",
    "docs = [TaggedDocument(doc, [i]) for i, doc in enumerate(np.array(tokenized_list))]\n",
    "\n",
    "d2v_dbow = Doc2Vec(dm=0, vector_size=500, min_count=4, workers=16, epochs=100, seed =42)\n",
    "d2v_dbow.build_vocab(docs)\n",
    "d2v_dbow.train(docs, total_examples=d2v_dbow.corpus_count, epochs=d2v_dbow.epochs)"
   ]
  },
  {
   "cell_type": "code",
   "execution_count": 18,
   "id": "0ba3ddcf",
   "metadata": {},
   "outputs": [
    {
     "name": "stderr",
     "output_type": "stream",
     "text": [
      "C:\\Users\\amits\\AppData\\Local\\Temp\\ipykernel_27116\\38196796.py:1: VisibleDeprecationWarning: Creating an ndarray from ragged nested sequences (which is a list-or-tuple of lists-or-tuples-or ndarrays with different lengths or shapes) is deprecated. If you meant to do this, you must specify 'dtype=object' when creating the ndarray.\n",
      "  d2v_train_x = [d2v_dbow.infer_vector(i) for i in np.array(tokenized_list)]\n"
     ]
    }
   ],
   "source": [
    "# infering vectors and saving \n",
    "\n",
    "d2v_train_x = [d2v_dbow.infer_vector(i) for i in np.array(tokenized_list)]"
   ]
  },
  {
   "cell_type": "markdown",
   "id": "34dd2a7b",
   "metadata": {},
   "source": [
    "<a class=\"anchor\" id=\"chapter4\"></a>"
   ]
  },
  {
   "cell_type": "markdown",
   "id": "3c714df4",
   "metadata": {},
   "source": [
    "### 4 K Means Classification"
   ]
  },
  {
   "cell_type": "code",
   "execution_count": 28,
   "id": "72c27b1b",
   "metadata": {},
   "outputs": [
    {
     "data": {
      "image/png": "[encoded data removed]",
      "text/plain": [
       "<Figure size 640x480 with 1 Axes>"
      ]
     },
     "metadata": {},
     "output_type": "display_data"
    }
   ],
   "source": [
    "# running k means for 1 to 30 clusters and calculating error\n",
    "\n",
    "from sklearn.cluster import KMeans\n",
    "\n",
    "# Plot Elbow Curve to find optimum \"K\" value\n",
    "N = range(1, 30)\n",
    "\n",
    "kmeans = [KMeans(n_clusters=i) for i in N]\n",
    "score = [kmeans[i].fit(d2v_train_x).score(d2v_train_x) \n",
    "         for i in range(len(kmeans))]\n",
    "\n",
    "plt.plot(N, score)\n",
    "plt.xlabel('Number of Clusters')\n",
    "plt.ylabel('Score')\n",
    "plt.title('Elbow Curve')\n",
    "plt.show()"
   ]
  },
  {
   "cell_type": "code",
   "execution_count": 45,
   "id": "ad44fe10",
   "metadata": {},
   "outputs": [
    {
     "data": {
      "text/plain": [
       "5    506\n",
       "2    504\n",
       "1    442\n",
       "4    405\n",
       "3    221\n",
       "0    147\n",
       "Name: cluster, dtype: int64"
      ]
     },
     "execution_count": 45,
     "metadata": {},
     "output_type": "execute_result"
    }
   ],
   "source": [
    "# running k means with 6 clusters\n",
    "\n",
    "km = KMeans(n_clusters=6).fit(d2v_train_x)\n",
    "\n",
    "labels = km.labels_\n",
    "clusters = labels.tolist()\n",
    "\n",
    "data['cluster'] = clusters\n",
    "data['cluster'].value_counts()"
   ]
  },
  {
   "cell_type": "markdown",
   "id": "c4208892",
   "metadata": {},
   "source": [
    "<a class=\"anchor\" id=\"chapter5\"></a>"
   ]
  },
  {
   "cell_type": "markdown",
   "id": "3d7d74ec",
   "metadata": {},
   "source": [
    "### 5 LSI Topi Modelling"
   ]
  },
  {
   "cell_type": "code",
   "execution_count": 48,
   "id": "5853654c",
   "metadata": {},
   "outputs": [
    {
     "name": "stderr",
     "output_type": "stream",
     "text": [
      "100%|█████████████████████████████████████████████████████████████████████████████| 2225/2225 [00:03<00:00, 640.49it/s]\n"
     ]
    }
   ],
   "source": [
    "# cleaning data for LSI topic modelling\n",
    "\n",
    "from nltk.tokenize import regexp_tokenize\n",
    "from nltk.corpus import stopwords\n",
    "from nltk.stem import WordNetLemmatizer\n",
    "lemmatizer = WordNetLemmatizer()\n",
    "from tqdm import tqdm\n",
    "PYTHONHASHSEED=0\n",
    "from textblob import TextBlob\n",
    "import spacy\n",
    "sp = spacy.load(\"en_core_web_sm\")\n",
    "sp_stopwords = spacy.lang.en.stop_words.STOP_WORDS\n",
    "\n",
    "clean_text = []\n",
    "for text in tqdm(data['text']):\n",
    "    words = regexp_tokenize(text.lower(), r'[A-Za-z]+')\n",
    "    words = [w for w in words if len(w)>2 and w not in sp_stopwords]\n",
    "    words = [lemmatizer.lemmatize(w) for w in words]\n",
    "    clean_text.append(words)"
   ]
  },
  {
   "cell_type": "code",
   "execution_count": 49,
   "id": "6576dbd5",
   "metadata": {},
   "outputs": [],
   "source": [
    "from gensim.models import LsiModel\n",
    "from gensim.corpora import Dictionary\n",
    "from gensim.models import TfidfModel\n",
    "import numpy as np\n",
    "import regex as re\n",
    "\n",
    "def gensim_dtm(clean_text_c1):\n",
    "    \n",
    "    global dtm\n",
    "    global my_dict\n",
    "    global df_metrics\n",
    "    global d2v\n",
    "    \n",
    "    for clean_text in clean_text_c1:\n",
    "\n",
    "        my_dict = Dictionary([clean_text], prune_at=5000)\n",
    "        dtm = [my_dict.doc2bow(doc) for doc in [clean_text] ]\n",
    "        d2v = TfidfModel(dtm)\n",
    "\n",
    "        lsi_model = LsiModel(corpus=dtm, id2word=my_dict, num_topics=1)\n",
    "        equation_lsi = lsi_model.print_topics(-1)\n",
    "        \n",
    "        top_words_lsi.append(re.findall(r'\"(.*?)\"', equation_lsi[0][1])[0:5])"
   ]
  },
  {
   "cell_type": "code",
   "execution_count": 50,
   "id": "2f3c79c5",
   "metadata": {},
   "outputs": [],
   "source": [
    "# savinf tags for each documents in original df\n",
    "\n",
    "top_words_lsi = list()\n",
    "top_words_lda = list()\n",
    "gensim_dtm(clean_text)\n",
    "\n",
    "data['features'] = top_words_lsi"
   ]
  },
  {
   "cell_type": "code",
   "execution_count": 118,
   "id": "af461d3d",
   "metadata": {},
   "outputs": [
    {
     "data": {
      "text/html": [
       "<div>\n",
       "<style scoped>\n",
       "    .dataframe tbody tr th:only-of-type {\n",
       "        vertical-align: middle;\n",
       "    }\n",
       "\n",
       "    .dataframe tbody tr th {\n",
       "        vertical-align: top;\n",
       "    }\n",
       "\n",
       "    .dataframe thead th {\n",
       "        text-align: right;\n",
       "    }\n",
       "</style>\n",
       "<table border=\"1\" class=\"dataframe\">\n",
       "  <thead>\n",
       "    <tr style=\"text-align: right;\">\n",
       "      <th></th>\n",
       "      <th>category</th>\n",
       "      <th>text</th>\n",
       "      <th>cluster</th>\n",
       "      <th>features</th>\n",
       "      <th>cluster_name</th>\n",
       "      <th>og_cat_numeric</th>\n",
       "      <th>matched</th>\n",
       "      <th>match_count</th>\n",
       "    </tr>\n",
       "  </thead>\n",
       "  <tbody>\n",
       "    <tr>\n",
       "      <th>0</th>\n",
       "      <td>tech</td>\n",
       "      <td>tv future in the hands of viewers with home theatre systems  plasma high-definition tvs  and digital video recorders moving into the living room  the way people watch tv will be radically differen...</td>\n",
       "      <td>4</td>\n",
       "      <td>[people, want, brand, network, technology]</td>\n",
       "      <td>Technology</td>\n",
       "      <td>4</td>\n",
       "      <td>{}</td>\n",
       "      <td>0</td>\n",
       "    </tr>\n",
       "    <tr>\n",
       "      <th>1</th>\n",
       "      <td>business</td>\n",
       "      <td>worldcom boss  left books alone  former worldcom boss bernie ebbers  who is accused of overseeing an $11bn (£5.8bn) fraud  never made accounting decisions  a witness has told jurors.  david myers ...</td>\n",
       "      <td>2</td>\n",
       "      <td>[worldcom, ebbers, myers, accounting, defence]</td>\n",
       "      <td>Soccer</td>\n",
       "      <td>1</td>\n",
       "      <td>{}</td>\n",
       "      <td>0</td>\n",
       "    </tr>\n",
       "  </tbody>\n",
       "</table>\n",
       "</div>"
      ],
      "text/plain": [
       "   category  \\\n",
       "0      tech   \n",
       "1  business   \n",
       "\n",
       "                                                                                                                                                                                                      text  \\\n",
       "0  tv future in the hands of viewers with home theatre systems  plasma high-definition tvs  and digital video recorders moving into the living room  the way people watch tv will be radically differen...   \n",
       "1  worldcom boss  left books alone  former worldcom boss bernie ebbers  who is accused of overseeing an $11bn (£5.8bn) fraud  never made accounting decisions  a witness has told jurors.  david myers ...   \n",
       "\n",
       "   cluster                                        features cluster_name  \\\n",
       "0        4      [people, want, brand, network, technology]   Technology   \n",
       "1        2  [worldcom, ebbers, myers, accounting, defence]       Soccer   \n",
       "\n",
       "   og_cat_numeric matched  match_count  \n",
       "0               4      {}            0  \n",
       "1               1      {}            0  "
      ]
     },
     "execution_count": 118,
     "metadata": {},
     "output_type": "execute_result"
    }
   ],
   "source": [
    "# sample data with tags\n",
    "\n",
    "data[0:2]"
   ]
  },
  {
   "cell_type": "code",
   "execution_count": 53,
   "id": "2e671ca1",
   "metadata": {},
   "outputs": [],
   "source": [
    "# data.to_csv('clusters.csv')"
   ]
  },
  {
   "cell_type": "code",
   "execution_count": 54,
   "id": "6c971c89",
   "metadata": {},
   "outputs": [
    {
     "data": {
      "text/plain": [
       "[('year', 78),\n",
       " ('company', 58),\n",
       " ('firm', 45),\n",
       " ('bank', 36),\n",
       " ('economy', 36),\n",
       " ('growth', 33),\n",
       " ('sale', 31),\n",
       " ('share', 29),\n",
       " ('profit', 26),\n",
       " ('price', 24),\n",
       " ('oil', 24),\n",
       " ('rate', 24),\n",
       " ('euro', 23),\n",
       " ('market', 21),\n",
       " ('economic', 21),\n",
       " ('government', 19),\n",
       " ('yukos', 19),\n",
       " ('new', 19),\n",
       " ('airline', 19),\n",
       " ('quarter', 17)]"
      ]
     },
     "execution_count": 54,
     "metadata": {},
     "output_type": "execute_result"
    }
   ],
   "source": [
    "# naming clusters based on top 20 tags from LSI\n",
    "\n",
    "from collections import Counter\n",
    "tmp = data[data['cluster']==2]\n",
    "\n",
    "cluster_bow = []\n",
    "for i in (tmp['features'].to_list()):\n",
    "    cluster_bow.extend(i)\n",
    "Counter(cluster_bow).most_common(20)"
   ]
  },
  {
   "cell_type": "code",
   "execution_count": 55,
   "id": "0a7b2d5d",
   "metadata": {},
   "outputs": [],
   "source": [
    "# cluster number to name conversion\n",
    "\n",
    "def get_cluster_names(cluster):\n",
    "    \n",
    "    if cluster == 4:\n",
    "        return \"Technology\"\n",
    "    elif cluster == 0:\n",
    "        return \"Sports\"\n",
    "    elif cluster == 1:\n",
    "        return \"Business\"\n",
    "    elif cluster == 2:\n",
    "        return \"Soccer\"\n",
    "    elif cluster == 3:\n",
    "        return \"Entertainment\"\n",
    "    elif cluster == 5:\n",
    "        return \"Politics\"\n",
    "    else:\n",
    "        return None\n",
    "    \n",
    "df[\"cluster_name\"] = df[\"cluster\"].apply(get_cluster_names)"
   ]
  },
  {
   "cell_type": "code",
   "execution_count": 77,
   "id": "bad474eb",
   "metadata": {},
   "outputs": [
    {
     "name": "stderr",
     "output_type": "stream",
     "text": [
      "100%|██████████████████████████████████████████████████████████████████████████████████████| 2225/2225 [00:00<?, ?it/s]\n"
     ]
    }
   ],
   "source": [
    "# running doc2vec with dist memory\n",
    "\n",
    "# doc2vec_train = pd.DataFrame(d2v_train_x)\n",
    "\n",
    "d2v_dmm = Doc2Vec(dm=1, dm_mean=1, vector_size=500, window=10,  min_count=4, workers=16)\n",
    "d2v_dmm.build_vocab([x for x in tqdm(docs)])\n",
    "\n",
    "d2v_dmm.train(docs, total_examples=d2v_dmm.corpus_count, epochs=d2v_dmm.epochs)"
   ]
  },
  {
   "cell_type": "markdown",
   "id": "26c18ea1",
   "metadata": {},
   "source": [
    "#### Model Pairing"
   ]
  },
  {
   "cell_type": "code",
   "execution_count": 79,
   "id": "95d0d5cd",
   "metadata": {},
   "outputs": [],
   "source": [
    "from gensim.test.test_doc2vec import ConcatenatedDoc2Vec\n",
    "d2v_pair = ConcatenatedDoc2Vec([d2v_dbow, d2v_dmm])"
   ]
  },
  {
   "cell_type": "markdown",
   "id": "f896c495",
   "metadata": {},
   "source": [
    "<a class=\"anchor\" id=\"chapter6\"></a>"
   ]
  },
  {
   "cell_type": "markdown",
   "id": "b13083c2",
   "metadata": {},
   "source": [
    "### 6 Recommender Function"
   ]
  },
  {
   "cell_type": "code",
   "execution_count": 92,
   "id": "d0bf224c",
   "metadata": {},
   "outputs": [],
   "source": [
    "# User1 is interested in tech topics; latest news around mobile phone technology and India in general\n",
    "user1 = ['india','technology','phone','mobile','sony']\n",
    "\n",
    "# User2 is interested in sports topic cricket and few sports personalities like Kohli, Dhoni\n",
    "user2 = ['cricket','kholi','match','wicket']"
   ]
  },
  {
   "cell_type": "code",
   "execution_count": 121,
   "id": "d2c1a527",
   "metadata": {},
   "outputs": [
    {
     "data": {
      "text/html": [
       "<div>\n",
       "<style scoped>\n",
       "    .dataframe tbody tr th:only-of-type {\n",
       "        vertical-align: middle;\n",
       "    }\n",
       "\n",
       "    .dataframe tbody tr th {\n",
       "        vertical-align: top;\n",
       "    }\n",
       "\n",
       "    .dataframe thead th {\n",
       "        text-align: right;\n",
       "    }\n",
       "</style>\n",
       "<table border=\"1\" class=\"dataframe\">\n",
       "  <thead>\n",
       "    <tr style=\"text-align: right;\">\n",
       "      <th></th>\n",
       "      <th>doc_id</th>\n",
       "      <th>similarty score</th>\n",
       "      <th>cluster_name</th>\n",
       "      <th>features</th>\n",
       "      <th>matched</th>\n",
       "      <th>match_count</th>\n",
       "    </tr>\n",
       "  </thead>\n",
       "  <tbody>\n",
       "    <tr>\n",
       "      <th>654</th>\n",
       "      <td>24</td>\n",
       "      <td>0.183787</td>\n",
       "      <td>Technology</td>\n",
       "      <td>[technology, mobile, sound, audio, phone]</td>\n",
       "      <td>{technology, phone, mobile}</td>\n",
       "      <td>3</td>\n",
       "    </tr>\n",
       "    <tr>\n",
       "      <th>1558</th>\n",
       "      <td>149</td>\n",
       "      <td>0.130471</td>\n",
       "      <td>Technology</td>\n",
       "      <td>[phone, technology, network, look, mobile]</td>\n",
       "      <td>{technology, phone, mobile}</td>\n",
       "      <td>3</td>\n",
       "    </tr>\n",
       "    <tr>\n",
       "      <th>210</th>\n",
       "      <td>27</td>\n",
       "      <td>0.226266</td>\n",
       "      <td>Technology</td>\n",
       "      <td>[phone, people, gig, mobile, video]</td>\n",
       "      <td>{phone, mobile}</td>\n",
       "      <td>2</td>\n",
       "    </tr>\n",
       "    <tr>\n",
       "      <th>356</th>\n",
       "      <td>1976</td>\n",
       "      <td>0.208741</td>\n",
       "      <td>Technology</td>\n",
       "      <td>[mobile, music, phone, market, babinet]</td>\n",
       "      <td>{phone, mobile}</td>\n",
       "      <td>2</td>\n",
       "    </tr>\n",
       "    <tr>\n",
       "      <th>370</th>\n",
       "      <td>1975</td>\n",
       "      <td>0.206794</td>\n",
       "      <td>Technology</td>\n",
       "      <td>[phone, camera, people, use, mobile]</td>\n",
       "      <td>{phone, mobile}</td>\n",
       "      <td>2</td>\n",
       "    </tr>\n",
       "    <tr>\n",
       "      <th>466</th>\n",
       "      <td>2174</td>\n",
       "      <td>0.197351</td>\n",
       "      <td>Technology</td>\n",
       "      <td>[phone, camera, people, use, mobile]</td>\n",
       "      <td>{phone, mobile}</td>\n",
       "      <td>2</td>\n",
       "    </tr>\n",
       "    <tr>\n",
       "      <th>486</th>\n",
       "      <td>1771</td>\n",
       "      <td>0.195058</td>\n",
       "      <td>Technology</td>\n",
       "      <td>[gadget, mobile, list, apple, phone]</td>\n",
       "      <td>{phone, mobile}</td>\n",
       "      <td>2</td>\n",
       "    </tr>\n",
       "    <tr>\n",
       "      <th>501</th>\n",
       "      <td>819</td>\n",
       "      <td>0.194091</td>\n",
       "      <td>Technology</td>\n",
       "      <td>[mobile, india, market, gaming, million]</td>\n",
       "      <td>{india, mobile}</td>\n",
       "      <td>2</td>\n",
       "    </tr>\n",
       "    <tr>\n",
       "      <th>523</th>\n",
       "      <td>351</td>\n",
       "      <td>0.192302</td>\n",
       "      <td>Technology</td>\n",
       "      <td>[game, mobile, console, phone, artist]</td>\n",
       "      <td>{phone, mobile}</td>\n",
       "      <td>2</td>\n",
       "    </tr>\n",
       "    <tr>\n",
       "      <th>554</th>\n",
       "      <td>1754</td>\n",
       "      <td>0.190025</td>\n",
       "      <td>Technology</td>\n",
       "      <td>[mobile, phone, fixed, questioned, people]</td>\n",
       "      <td>{phone, mobile}</td>\n",
       "      <td>2</td>\n",
       "    </tr>\n",
       "    <tr>\n",
       "      <th>561</th>\n",
       "      <td>2143</td>\n",
       "      <td>0.189491</td>\n",
       "      <td>Technology</td>\n",
       "      <td>[camera, phone, mobile, image, people]</td>\n",
       "      <td>{phone, mobile}</td>\n",
       "      <td>2</td>\n",
       "    </tr>\n",
       "    <tr>\n",
       "      <th>581</th>\n",
       "      <td>859</td>\n",
       "      <td>0.188384</td>\n",
       "      <td>Technology</td>\n",
       "      <td>[phone, mobile, handset, old, goodman]</td>\n",
       "      <td>{phone, mobile}</td>\n",
       "      <td>2</td>\n",
       "    </tr>\n",
       "    <tr>\n",
       "      <th>582</th>\n",
       "      <td>1859</td>\n",
       "      <td>0.188377</td>\n",
       "      <td>Technology</td>\n",
       "      <td>[camera, phone, mobile, image, people]</td>\n",
       "      <td>{phone, mobile}</td>\n",
       "      <td>2</td>\n",
       "    </tr>\n",
       "    <tr>\n",
       "      <th>588</th>\n",
       "      <td>1514</td>\n",
       "      <td>0.187930</td>\n",
       "      <td>Technology</td>\n",
       "      <td>[gadget, mobile, list, apple, phone]</td>\n",
       "      <td>{phone, mobile}</td>\n",
       "      <td>2</td>\n",
       "    </tr>\n",
       "    <tr>\n",
       "      <th>706</th>\n",
       "      <td>522</td>\n",
       "      <td>0.180728</td>\n",
       "      <td>Technology</td>\n",
       "      <td>[system, nokia, mobile, bus, phone]</td>\n",
       "      <td>{phone, mobile}</td>\n",
       "      <td>2</td>\n",
       "    </tr>\n",
       "    <tr>\n",
       "      <th>738</th>\n",
       "      <td>1333</td>\n",
       "      <td>0.179038</td>\n",
       "      <td>Technology</td>\n",
       "      <td>[cebit, phone, mobile, big, digital]</td>\n",
       "      <td>{phone, mobile}</td>\n",
       "      <td>2</td>\n",
       "    </tr>\n",
       "    <tr>\n",
       "      <th>849</th>\n",
       "      <td>1362</td>\n",
       "      <td>0.171756</td>\n",
       "      <td>Technology</td>\n",
       "      <td>[multimedia, phone, message, mobile, people]</td>\n",
       "      <td>{phone, mobile}</td>\n",
       "      <td>2</td>\n",
       "    </tr>\n",
       "    <tr>\n",
       "      <th>1013</th>\n",
       "      <td>366</td>\n",
       "      <td>0.162852</td>\n",
       "      <td>Technology</td>\n",
       "      <td>[multimedia, phone, message, mobile, people]</td>\n",
       "      <td>{phone, mobile}</td>\n",
       "      <td>2</td>\n",
       "    </tr>\n",
       "    <tr>\n",
       "      <th>1177</th>\n",
       "      <td>524</td>\n",
       "      <td>0.152508</td>\n",
       "      <td>Technology</td>\n",
       "      <td>[dvd, technology, format, sony, blu]</td>\n",
       "      <td>{technology, sony}</td>\n",
       "      <td>2</td>\n",
       "    </tr>\n",
       "    <tr>\n",
       "      <th>1259</th>\n",
       "      <td>1734</td>\n",
       "      <td>0.147752</td>\n",
       "      <td>Technology</td>\n",
       "      <td>[dvd, format, technology, sony, film]</td>\n",
       "      <td>{technology, sony}</td>\n",
       "      <td>2</td>\n",
       "    </tr>\n",
       "  </tbody>\n",
       "</table>\n",
       "</div>"
      ],
      "text/plain": [
       "      doc_id  similarty score cluster_name  \\\n",
       "654       24         0.183787   Technology   \n",
       "1558     149         0.130471   Technology   \n",
       "210       27         0.226266   Technology   \n",
       "356     1976         0.208741   Technology   \n",
       "370     1975         0.206794   Technology   \n",
       "466     2174         0.197351   Technology   \n",
       "486     1771         0.195058   Technology   \n",
       "501      819         0.194091   Technology   \n",
       "523      351         0.192302   Technology   \n",
       "554     1754         0.190025   Technology   \n",
       "561     2143         0.189491   Technology   \n",
       "581      859         0.188384   Technology   \n",
       "582     1859         0.188377   Technology   \n",
       "588     1514         0.187930   Technology   \n",
       "706      522         0.180728   Technology   \n",
       "738     1333         0.179038   Technology   \n",
       "849     1362         0.171756   Technology   \n",
       "1013     366         0.162852   Technology   \n",
       "1177     524         0.152508   Technology   \n",
       "1259    1734         0.147752   Technology   \n",
       "\n",
       "                                          features  \\\n",
       "654      [technology, mobile, sound, audio, phone]   \n",
       "1558    [phone, technology, network, look, mobile]   \n",
       "210            [phone, people, gig, mobile, video]   \n",
       "356        [mobile, music, phone, market, babinet]   \n",
       "370           [phone, camera, people, use, mobile]   \n",
       "466           [phone, camera, people, use, mobile]   \n",
       "486           [gadget, mobile, list, apple, phone]   \n",
       "501       [mobile, india, market, gaming, million]   \n",
       "523         [game, mobile, console, phone, artist]   \n",
       "554     [mobile, phone, fixed, questioned, people]   \n",
       "561         [camera, phone, mobile, image, people]   \n",
       "581         [phone, mobile, handset, old, goodman]   \n",
       "582         [camera, phone, mobile, image, people]   \n",
       "588           [gadget, mobile, list, apple, phone]   \n",
       "706            [system, nokia, mobile, bus, phone]   \n",
       "738           [cebit, phone, mobile, big, digital]   \n",
       "849   [multimedia, phone, message, mobile, people]   \n",
       "1013  [multimedia, phone, message, mobile, people]   \n",
       "1177          [dvd, technology, format, sony, blu]   \n",
       "1259         [dvd, format, technology, sony, film]   \n",
       "\n",
       "                          matched  match_count  \n",
       "654   {technology, phone, mobile}            3  \n",
       "1558  {technology, phone, mobile}            3  \n",
       "210               {phone, mobile}            2  \n",
       "356               {phone, mobile}            2  \n",
       "370               {phone, mobile}            2  \n",
       "466               {phone, mobile}            2  \n",
       "486               {phone, mobile}            2  \n",
       "501               {india, mobile}            2  \n",
       "523               {phone, mobile}            2  \n",
       "554               {phone, mobile}            2  \n",
       "561               {phone, mobile}            2  \n",
       "581               {phone, mobile}            2  \n",
       "582               {phone, mobile}            2  \n",
       "588               {phone, mobile}            2  \n",
       "706               {phone, mobile}            2  \n",
       "738               {phone, mobile}            2  \n",
       "849               {phone, mobile}            2  \n",
       "1013              {phone, mobile}            2  \n",
       "1177           {technology, sony}            2  \n",
       "1259           {technology, sony}            2  "
      ]
     },
     "execution_count": 121,
     "metadata": {},
     "output_type": "execute_result"
    }
   ],
   "source": [
    "# function to recommend articles\n",
    "# input is current article number and interest as a list\n",
    "# output is df with articles from same cluster ranked by similarity score and interest list\n",
    "\n",
    "def find_recommendation(i,user1):\n",
    "    inferred_vector = d2v_dbow.infer_vector(docs[i].words)\n",
    "\n",
    "    sims = d2v_dbow.dv.most_similar([inferred_vector], topn=len(d2v_dbow.dv))\n",
    "\n",
    "    df_sims = pd.DataFrame(sims, columns=['doc_id','similarty score'])\n",
    "    df_sims.set_index('doc_id')\n",
    "\n",
    "    df_final = df_sims.merge(df[['cluster_name','features']],left_on='doc_id',right_on=df.index)\n",
    "    \n",
    "    tmp = []\n",
    "    ln = []\n",
    "    for k in range(len(df_final)):\n",
    "        tmp.append(set(df_final['features'][k]).intersection(user1))\n",
    "        ln.append(len(set(df_final['features'][k]).intersection(user1)))\n",
    "    \n",
    "    df_final['matched'] = tmp\n",
    "    df_final['match_count'] = ln\n",
    "    \n",
    "    df_final.sort_values(by = ['cluster_name', 'match_count' ,'similarty score'], inplace=True, ascending=False)\n",
    "    \n",
    "    return df_final.head(20)\n",
    "\n",
    "find_recommendation(2,user1)"
   ]
  },
  {
   "cell_type": "markdown",
   "id": "6e8b018a",
   "metadata": {},
   "source": [
    "<a class=\"anchor\" id=\"chapter7\"></a>"
   ]
  },
  {
   "cell_type": "markdown",
   "id": "eeba3b1e",
   "metadata": {},
   "source": [
    "### 7 References"
   ]
  },
  {
   "cell_type": "markdown",
   "id": "217c2680",
   "metadata": {},
   "source": [
    "https://towardsdatascience.com/multi-class-text-classification-with-doc2vec-logistic-regression-9da9947b43f4\n",
    "\n",
    "\n",
    "https://radimrehurek.com/gensim/auto_examples/tutorials/run_doc2vec_lee.html#assessing-the-model"
   ]
  }
 ],
 "metadata": {
  "kernelspec": {
   "display_name": "Python 3 (ipykernel)",
   "language": "python",
   "name": "python3"
  },
  "language_info": {
   "codemirror_mode": {
    "name": "ipython",
    "version": 3
   },
   "file_extension": ".py",
   "mimetype": "text/x-python",
   "name": "python",
   "nbconvert_exporter": "python",
   "pygments_lexer": "ipython3",
   "version": "3.9.13"
  }
 },
 "nbformat": 4,
 "nbformat_minor": 5
}
